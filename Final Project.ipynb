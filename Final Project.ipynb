{
 "cells": [
  {
   "cell_type": "code",
   "execution_count": 536,
   "id": "df3ea1b5",
   "metadata": {},
   "outputs": [],
   "source": [
    "#Import Packages\n",
    "import numpy as np\n",
    "import pandas as pd\n",
    "from sklearn.linear_model import LogisticRegression\n",
    "from sklearn.discriminant_analysis import LinearDiscriminantAnalysis\n",
    "from sklearn.discriminant_analysis import QuadraticDiscriminantAnalysis\n",
    "from sklearn.neighbors import KNeighborsClassifier\n",
    "from sklearn import metrics\n",
    "from sklearn.metrics import classification_report, confusion_matrix\n",
    "import pandas_ta as pta\n",
    "import matplotlib.pyplot as plt\n",
    "import seaborn as sns\n",
    "from sklearn.feature_selection import RFE"
   ]
  },
  {
   "cell_type": "markdown",
   "id": "d774a9d9",
   "metadata": {},
   "source": [
    "# Data Setup"
   ]
  },
  {
   "cell_type": "code",
   "execution_count": 537,
   "id": "aa7f43e4",
   "metadata": {
    "scrolled": true
   },
   "outputs": [
    {
     "data": {
      "text/html": [
       "<div>\n",
       "<style scoped>\n",
       "    .dataframe tbody tr th:only-of-type {\n",
       "        vertical-align: middle;\n",
       "    }\n",
       "\n",
       "    .dataframe tbody tr th {\n",
       "        vertical-align: top;\n",
       "    }\n",
       "\n",
       "    .dataframe thead th {\n",
       "        text-align: right;\n",
       "    }\n",
       "</style>\n",
       "<table border=\"1\" class=\"dataframe\">\n",
       "  <thead>\n",
       "    <tr style=\"text-align: right;\">\n",
       "      <th></th>\n",
       "      <th>Year</th>\n",
       "      <th>Lag1</th>\n",
       "      <th>Lag2</th>\n",
       "      <th>Lag3</th>\n",
       "      <th>Lag4</th>\n",
       "      <th>Lag5</th>\n",
       "      <th>Volume</th>\n",
       "      <th>Today</th>\n",
       "      <th>Direction</th>\n",
       "    </tr>\n",
       "  </thead>\n",
       "  <tbody>\n",
       "    <tr>\n",
       "      <th>0</th>\n",
       "      <td>2001</td>\n",
       "      <td>0.381</td>\n",
       "      <td>-0.192</td>\n",
       "      <td>-2.624</td>\n",
       "      <td>-1.055</td>\n",
       "      <td>5.010</td>\n",
       "      <td>1.1913</td>\n",
       "      <td>0.959</td>\n",
       "      <td>Up</td>\n",
       "    </tr>\n",
       "    <tr>\n",
       "      <th>1</th>\n",
       "      <td>2001</td>\n",
       "      <td>0.959</td>\n",
       "      <td>0.381</td>\n",
       "      <td>-0.192</td>\n",
       "      <td>-2.624</td>\n",
       "      <td>-1.055</td>\n",
       "      <td>1.2965</td>\n",
       "      <td>1.032</td>\n",
       "      <td>Up</td>\n",
       "    </tr>\n",
       "    <tr>\n",
       "      <th>2</th>\n",
       "      <td>2001</td>\n",
       "      <td>1.032</td>\n",
       "      <td>0.959</td>\n",
       "      <td>0.381</td>\n",
       "      <td>-0.192</td>\n",
       "      <td>-2.624</td>\n",
       "      <td>1.4112</td>\n",
       "      <td>-0.623</td>\n",
       "      <td>Down</td>\n",
       "    </tr>\n",
       "    <tr>\n",
       "      <th>3</th>\n",
       "      <td>2001</td>\n",
       "      <td>-0.623</td>\n",
       "      <td>1.032</td>\n",
       "      <td>0.959</td>\n",
       "      <td>0.381</td>\n",
       "      <td>-0.192</td>\n",
       "      <td>1.2760</td>\n",
       "      <td>0.614</td>\n",
       "      <td>Up</td>\n",
       "    </tr>\n",
       "    <tr>\n",
       "      <th>4</th>\n",
       "      <td>2001</td>\n",
       "      <td>0.614</td>\n",
       "      <td>-0.623</td>\n",
       "      <td>1.032</td>\n",
       "      <td>0.959</td>\n",
       "      <td>0.381</td>\n",
       "      <td>1.2057</td>\n",
       "      <td>0.213</td>\n",
       "      <td>Up</td>\n",
       "    </tr>\n",
       "  </tbody>\n",
       "</table>\n",
       "</div>"
      ],
      "text/plain": [
       "   Year   Lag1   Lag2   Lag3   Lag4   Lag5  Volume  Today Direction\n",
       "0  2001  0.381 -0.192 -2.624 -1.055  5.010  1.1913  0.959        Up\n",
       "1  2001  0.959  0.381 -0.192 -2.624 -1.055  1.2965  1.032        Up\n",
       "2  2001  1.032  0.959  0.381 -0.192 -2.624  1.4112 -0.623      Down\n",
       "3  2001 -0.623  1.032  0.959  0.381 -0.192  1.2760  0.614        Up\n",
       "4  2001  0.614 -0.623  1.032  0.959  0.381  1.2057  0.213        Up"
      ]
     },
     "execution_count": 537,
     "metadata": {},
     "output_type": "execute_result"
    }
   ],
   "source": [
    "#Create dataframe \n",
    "ogdata = pd.read_csv('Smarket.csv')\n",
    "ogdata.head()"
   ]
  },
  {
   "cell_type": "code",
   "execution_count": 538,
   "id": "9287579a",
   "metadata": {},
   "outputs": [],
   "source": [
    "#Create Price variable in order to create RSI(stock market indicator) variable \n",
    "#RSI is a 14 day moving average so we have to remove the first 13 rows\n",
    "ogdata[\"Price\"] = 0\n",
    "ogdata['Price'] = ogdata['Price'].astype(float)\n",
    "ogdata[\"Price\"][0] = 1335.63\n",
    "for i in range(1,1250):\n",
    "    ogdata[\"Price\"][i] = ogdata[\"Price\"][i-1] * (1 + ogdata[\"Today\"][i]/100)\n",
    "ogdata[\"RSI\"] = pta.rsi(ogdata['Price'], length = 14)\n",
    "data = ogdata.iloc[14: , :]"
   ]
  },
  {
   "cell_type": "code",
   "execution_count": 539,
   "id": "7c78ae4d",
   "metadata": {},
   "outputs": [],
   "source": [
    "#Split data into training and test sets\n",
    "#The models train on 2001-2004 and test on 2005\n",
    "train = data[(data[\"Year\"] < 2005)]\n",
    "test = data[(data[\"Year\"] == 2005)]\n",
    "train_y = train[\"Direction\"]\n",
    "test_y = test[\"Direction\"]\n",
    "fullvars = [\"RSI\",\"Lag1\",\"Lag2\",\"Lag3\",\"Lag4\",\"Lag5\",\"Volume\"]"
   ]
  },
  {
   "cell_type": "markdown",
   "id": "fbbded1a",
   "metadata": {},
   "source": [
    "# Logistic Regression"
   ]
  },
  {
   "cell_type": "code",
   "execution_count": 540,
   "id": "9d606739",
   "metadata": {},
   "outputs": [],
   "source": [
    "#Create function to run logistic regression on training data and output test error rate\n",
    "def logregerror(train_x,train_y,test_x,test_y):\n",
    "    model = LogisticRegression(solver='liblinear', random_state=0).fit(train_x,train_y)\n",
    "    predictions = model.predict(test_x)\n",
    "    error_rate = sum(predictions != test_y)/252\n",
    "    return error_rate"
   ]
  },
  {
   "cell_type": "code",
   "execution_count": 541,
   "id": "e7d6af17",
   "metadata": {},
   "outputs": [],
   "source": [
    "#Run logistic regressions starting with all variables and remove the variables with the least importance\n",
    "logerrorlist = []\n",
    "for i in reversed(range(1,8)):\n",
    "    logerrorlist.append(logregerror(train[fullvars[0:i]],train_y,test[fullvars[0:i]],test_y))\n",
    "logminerror = min(logerrorlist)\n",
    "logminerrorindex = logerrorlist.index(logminerror)"
   ]
  },
  {
   "cell_type": "code",
   "execution_count": 542,
   "id": "08f3425a",
   "metadata": {},
   "outputs": [
    {
     "data": {
      "text/html": [
       "<div>\n",
       "<style scoped>\n",
       "    .dataframe tbody tr th:only-of-type {\n",
       "        vertical-align: middle;\n",
       "    }\n",
       "\n",
       "    .dataframe tbody tr th {\n",
       "        vertical-align: top;\n",
       "    }\n",
       "\n",
       "    .dataframe thead th {\n",
       "        text-align: right;\n",
       "    }\n",
       "</style>\n",
       "<table border=\"1\" class=\"dataframe\">\n",
       "  <thead>\n",
       "    <tr style=\"text-align: right;\">\n",
       "      <th></th>\n",
       "      <th>Model 1</th>\n",
       "      <th>Model 2</th>\n",
       "      <th>Model 3</th>\n",
       "      <th>Model 4</th>\n",
       "      <th>Model 5</th>\n",
       "      <th>Model 6</th>\n",
       "      <th>Model 7</th>\n",
       "    </tr>\n",
       "    <tr>\n",
       "      <th></th>\n",
       "      <th></th>\n",
       "      <th></th>\n",
       "      <th></th>\n",
       "      <th></th>\n",
       "      <th></th>\n",
       "      <th></th>\n",
       "      <th></th>\n",
       "    </tr>\n",
       "  </thead>\n",
       "  <tbody>\n",
       "    <tr>\n",
       "      <th>Error Rate:</th>\n",
       "      <td>0.365079</td>\n",
       "      <td>0.333333</td>\n",
       "      <td>0.333333</td>\n",
       "      <td>0.325397</td>\n",
       "      <td>0.325397</td>\n",
       "      <td>0.321429</td>\n",
       "      <td>0.337302</td>\n",
       "    </tr>\n",
       "  </tbody>\n",
       "</table>\n",
       "</div>"
      ],
      "text/plain": [
       "              Model 1   Model 2   Model 3   Model 4   Model 5   Model 6  \\\n",
       "                                                                          \n",
       "Error Rate:  0.365079  0.333333  0.333333  0.325397  0.325397  0.321429   \n",
       "\n",
       "              Model 7  \n",
       "                       \n",
       "Error Rate:  0.337302  "
      ]
     },
     "execution_count": 542,
     "metadata": {},
     "output_type": "execute_result"
    }
   ],
   "source": [
    "#Create output dataframe to compare test error rates between specifications\n",
    "dict = {' ' : [\"Error Rate:\"],\n",
    "        'Model 1' : [logerrorlist[6]],\n",
    "        'Model 2' : [logerrorlist[5]],\n",
    "        'Model 3' : [logerrorlist[4]],\n",
    "        'Model 4' : [logerrorlist[3]],\n",
    "        'Model 5' : [logerrorlist[2]],\n",
    "        'Model 6' : [logerrorlist[1]],\n",
    "        'Model 7' : [logerrorlist[0]],}\n",
    "logtable = pd.DataFrame(dict).set_index(' ')\n",
    "logtable"
   ]
  },
  {
   "cell_type": "code",
   "execution_count": 543,
   "id": "7d8532fd",
   "metadata": {},
   "outputs": [
    {
     "name": "stdout",
     "output_type": "stream",
     "text": [
      "The logistic model that gives the smallest error is Model 6 and that error is 0.32142857142857145\n"
     ]
    }
   ],
   "source": [
    "print(f\"The logistic model that gives the smallest error is Model {7 - logminerrorindex} and that error is {logminerror}\")"
   ]
  },
  {
   "cell_type": "code",
   "execution_count": 544,
   "id": "782191b0",
   "metadata": {
    "scrolled": true
   },
   "outputs": [
    {
     "name": "stdout",
     "output_type": "stream",
     "text": [
      "[[102  39]\n",
      " [ 42  69]]\n"
     ]
    },
    {
     "data": {
      "image/png": "[encoded data removed]",
      "text/plain": [
       "<Figure size 432x288 with 2 Axes>"
      ]
     },
     "metadata": {
      "needs_background": "light"
     },
     "output_type": "display_data"
    }
   ],
   "source": [
    "#Output confusion matrix to see what kind of errors the model is making\n",
    "labels = ['Up', 'Down']\n",
    "cm = confusion_matrix(test_y, bestpredictions, labels)\n",
    "print(cm)\n",
    "fig = plt.figure()\n",
    "ax = fig.add_subplot(111)\n",
    "cax = ax.matshow(cm)\n",
    "plt.title('Confusion matrix of the classifier')\n",
    "fig.colorbar(cax)\n",
    "ax.set_xticklabels([''] + labels)\n",
    "ax.set_yticklabels([''] + labels)\n",
    "plt.xlabel('Predicted')\n",
    "plt.ylabel('True')\n",
    "plt.show()"
   ]
  },
  {
   "cell_type": "code",
   "execution_count": 545,
   "id": "77b0719c",
   "metadata": {
    "scrolled": false
   },
   "outputs": [
    {
     "name": "stdout",
     "output_type": "stream",
     "text": [
      "              precision    recall  f1-score   support\n",
      "\n",
      "        Down       0.64      0.62      0.63       111\n",
      "          Up       0.71      0.72      0.72       141\n",
      "\n",
      "    accuracy                           0.68       252\n",
      "   macro avg       0.67      0.67      0.67       252\n",
      "weighted avg       0.68      0.68      0.68       252\n",
      "\n"
     ]
    }
   ],
   "source": [
    "#Create a classification report to see the accuracy of the model within each class\n",
    "bestmodel = LogisticRegression(solver='liblinear', random_state=0).fit(train[fullvars[0:6]],train_y)\n",
    "bestpredictions = bestmodel.predict(test[fullvars[0:6]])\n",
    "print(classification_report(test_y, bestpredictions))"
   ]
  },
  {
   "cell_type": "markdown",
   "id": "fbf48ac7",
   "metadata": {},
   "source": [
    "# Linear Discriminant Analysis (LDA)"
   ]
  },
  {
   "cell_type": "code",
   "execution_count": 546,
   "id": "dfbb2c60",
   "metadata": {},
   "outputs": [],
   "source": [
    "#Create function to run LDA on training data and output test error rate\n",
    "def LDAerror(train_x,train_y,test_x,test_y):\n",
    "    model = LinearDiscriminantAnalysis(solver='lsqr').fit(train_x,train_y)\n",
    "    predictions = model.predict(test_x)\n",
    "    error_rate = sum(predictions != test_y)/252\n",
    "    return error_rate"
   ]
  },
  {
   "cell_type": "code",
   "execution_count": 547,
   "id": "8de275b0",
   "metadata": {},
   "outputs": [],
   "source": [
    "#Run LDA starting with all variables and remove the variables with the least importance\n",
    "LDAerrorlist = []\n",
    "for i in reversed(range(1,8)):\n",
    "    LDAerrorlist.append(LDAerror(train[fullvars[0:i]],train_y,test[fullvars[0:i]],test_y))\n",
    "LDAminerror = min(LDAerrorlist)\n",
    "LDAminerrorindex = LDAerrorlist.index(LDAminerror)"
   ]
  },
  {
   "cell_type": "code",
   "execution_count": 548,
   "id": "b4a8d815",
   "metadata": {},
   "outputs": [
    {
     "data": {
      "text/html": [
       "<div>\n",
       "<style scoped>\n",
       "    .dataframe tbody tr th:only-of-type {\n",
       "        vertical-align: middle;\n",
       "    }\n",
       "\n",
       "    .dataframe tbody tr th {\n",
       "        vertical-align: top;\n",
       "    }\n",
       "\n",
       "    .dataframe thead th {\n",
       "        text-align: right;\n",
       "    }\n",
       "</style>\n",
       "<table border=\"1\" class=\"dataframe\">\n",
       "  <thead>\n",
       "    <tr style=\"text-align: right;\">\n",
       "      <th></th>\n",
       "      <th>Model 1</th>\n",
       "      <th>Model 2</th>\n",
       "      <th>Model 3</th>\n",
       "      <th>Model 4</th>\n",
       "      <th>Model 5</th>\n",
       "      <th>Model 6</th>\n",
       "      <th>Model 7</th>\n",
       "    </tr>\n",
       "    <tr>\n",
       "      <th></th>\n",
       "      <th></th>\n",
       "      <th></th>\n",
       "      <th></th>\n",
       "      <th></th>\n",
       "      <th></th>\n",
       "      <th></th>\n",
       "      <th></th>\n",
       "    </tr>\n",
       "  </thead>\n",
       "  <tbody>\n",
       "    <tr>\n",
       "      <th>Error Rate:</th>\n",
       "      <td>0.373016</td>\n",
       "      <td>0.333333</td>\n",
       "      <td>0.329365</td>\n",
       "      <td>0.325397</td>\n",
       "      <td>0.329365</td>\n",
       "      <td>0.321429</td>\n",
       "      <td>0.31746</td>\n",
       "    </tr>\n",
       "  </tbody>\n",
       "</table>\n",
       "</div>"
      ],
      "text/plain": [
       "              Model 1   Model 2   Model 3   Model 4   Model 5   Model 6  \\\n",
       "                                                                          \n",
       "Error Rate:  0.373016  0.333333  0.329365  0.325397  0.329365  0.321429   \n",
       "\n",
       "             Model 7  \n",
       "                      \n",
       "Error Rate:  0.31746  "
      ]
     },
     "execution_count": 548,
     "metadata": {},
     "output_type": "execute_result"
    }
   ],
   "source": [
    "#Create output dataframe to compare test error rates between specifications\n",
    "dict = {' ' : [\"Error Rate:\"],\n",
    "        'Model 1' : [LDAerrorlist[6]],\n",
    "        'Model 2' : [LDAerrorlist[5]],\n",
    "        'Model 3' : [LDAerrorlist[4]],\n",
    "        'Model 4' : [LDAerrorlist[3]],\n",
    "        'Model 5' : [LDAerrorlist[2]],\n",
    "        'Model 6' : [LDAerrorlist[1]],\n",
    "        'Model 7' : [LDAerrorlist[0]],}\n",
    "LDAtable = pd.DataFrame(dict).set_index(' ')\n",
    "LDAtable"
   ]
  },
  {
   "cell_type": "code",
   "execution_count": 549,
   "id": "a9f76443",
   "metadata": {},
   "outputs": [
    {
     "name": "stdout",
     "output_type": "stream",
     "text": [
      "The LDA model that gives the smallest error is Model 7 and that error is 0.31746031746031744\n"
     ]
    }
   ],
   "source": [
    "print(f\"The LDA model that gives the smallest error is Model {7 - LDAminerrorindex} and that error is {LDAminerror}\")"
   ]
  },
  {
   "cell_type": "code",
   "execution_count": 550,
   "id": "832e8342",
   "metadata": {},
   "outputs": [
    {
     "name": "stdout",
     "output_type": "stream",
     "text": [
      "              precision    recall  f1-score   support\n",
      "\n",
      "        Down       0.64      0.62      0.63       111\n",
      "          Up       0.71      0.73      0.72       141\n",
      "\n",
      "    accuracy                           0.68       252\n",
      "   macro avg       0.68      0.68      0.68       252\n",
      "weighted avg       0.68      0.68      0.68       252\n",
      "\n"
     ]
    }
   ],
   "source": [
    "#Create a classification report to see the accuracy of the model within each class\n",
    "bestmodelLDA = LinearDiscriminantAnalysis(solver='lsqr').fit(train[fullvars[0:7]],train_y)\n",
    "bestpredictionsLDA = bestmodelLDA.predict(test[fullvars[0:7]])\n",
    "print(classification_report(test_y, bestpredictionsLDA))"
   ]
  },
  {
   "cell_type": "code",
   "execution_count": 551,
   "id": "ab91f82c",
   "metadata": {
    "scrolled": true
   },
   "outputs": [
    {
     "name": "stdout",
     "output_type": "stream",
     "text": [
      "[[103  38]\n",
      " [ 42  69]]\n"
     ]
    },
    {
     "data": {
      "image/png": "[encoded data removed]",
      "text/plain": [
       "<Figure size 432x288 with 2 Axes>"
      ]
     },
     "metadata": {
      "needs_background": "light"
     },
     "output_type": "display_data"
    }
   ],
   "source": [
    "#Output confusion matrix to see what kind of errors the model is making\n",
    "labels = ['Up', 'Down']\n",
    "cm = confusion_matrix(test_y, bestpredictionsLDA, labels)\n",
    "print(cm)\n",
    "fig = plt.figure()\n",
    "ax = fig.add_subplot(111)\n",
    "cax = ax.matshow(cm)\n",
    "plt.title('Confusion matrix of the classifier')\n",
    "fig.colorbar(cax)\n",
    "ax.set_xticklabels([''] + labels)\n",
    "ax.set_yticklabels([''] + labels)\n",
    "plt.xlabel('Predicted')\n",
    "plt.ylabel('True')\n",
    "plt.show()"
   ]
  },
  {
   "cell_type": "markdown",
   "id": "0d7bb560",
   "metadata": {},
   "source": [
    "# Quadratic Discriminant Analysis (QDA)"
   ]
  },
  {
   "cell_type": "code",
   "execution_count": 552,
   "id": "b7b45f68",
   "metadata": {},
   "outputs": [],
   "source": [
    "#Create function to run QDA on training data and output test error rate\n",
    "def QDAerror(train_x,train_y,test_x,test_y):\n",
    "    model = QuadraticDiscriminantAnalysis().fit(train_x,train_y)\n",
    "    predictions = model.predict(test_x)\n",
    "    error_rate = sum(predictions != test_y)/252\n",
    "    return error_rate"
   ]
  },
  {
   "cell_type": "code",
   "execution_count": 553,
   "id": "54ac86ed",
   "metadata": {},
   "outputs": [],
   "source": [
    "#Run QDA starting with all variables and remove the variables with the least importance\n",
    "QDAerrorlist = []\n",
    "for i in reversed(range(1,8)):\n",
    "    QDAerrorlist.append(QDAerror(train[fullvars[0:i]],train_y,test[fullvars[0:i]],test_y))\n",
    "QDAminerror = min(QDAerrorlist)\n",
    "QDAminerrorindex = QDAerrorlist.index(QDAminerror)"
   ]
  },
  {
   "cell_type": "code",
   "execution_count": 554,
   "id": "9e064537",
   "metadata": {},
   "outputs": [
    {
     "data": {
      "text/html": [
       "<div>\n",
       "<style scoped>\n",
       "    .dataframe tbody tr th:only-of-type {\n",
       "        vertical-align: middle;\n",
       "    }\n",
       "\n",
       "    .dataframe tbody tr th {\n",
       "        vertical-align: top;\n",
       "    }\n",
       "\n",
       "    .dataframe thead th {\n",
       "        text-align: right;\n",
       "    }\n",
       "</style>\n",
       "<table border=\"1\" class=\"dataframe\">\n",
       "  <thead>\n",
       "    <tr style=\"text-align: right;\">\n",
       "      <th></th>\n",
       "      <th>Model 1</th>\n",
       "      <th>Model 2</th>\n",
       "      <th>Model 3</th>\n",
       "      <th>Model 4</th>\n",
       "      <th>Model 5</th>\n",
       "      <th>Model 6</th>\n",
       "      <th>Model 7</th>\n",
       "    </tr>\n",
       "    <tr>\n",
       "      <th></th>\n",
       "      <th></th>\n",
       "      <th></th>\n",
       "      <th></th>\n",
       "      <th></th>\n",
       "      <th></th>\n",
       "      <th></th>\n",
       "      <th></th>\n",
       "    </tr>\n",
       "  </thead>\n",
       "  <tbody>\n",
       "    <tr>\n",
       "      <th>Error Rate:</th>\n",
       "      <td>0.365079</td>\n",
       "      <td>0.333333</td>\n",
       "      <td>0.333333</td>\n",
       "      <td>0.325397</td>\n",
       "      <td>0.337302</td>\n",
       "      <td>0.333333</td>\n",
       "      <td>0.369048</td>\n",
       "    </tr>\n",
       "  </tbody>\n",
       "</table>\n",
       "</div>"
      ],
      "text/plain": [
       "              Model 1   Model 2   Model 3   Model 4   Model 5   Model 6  \\\n",
       "                                                                          \n",
       "Error Rate:  0.365079  0.333333  0.333333  0.325397  0.337302  0.333333   \n",
       "\n",
       "              Model 7  \n",
       "                       \n",
       "Error Rate:  0.369048  "
      ]
     },
     "execution_count": 554,
     "metadata": {},
     "output_type": "execute_result"
    }
   ],
   "source": [
    "#Create output dataframe to compare test error rates between specifications\n",
    "dict = {' ' : [\"Error Rate:\"],\n",
    "        'Model 1' : [QDAerrorlist[6]],\n",
    "        'Model 2' : [QDAerrorlist[5]],\n",
    "        'Model 3' : [QDAerrorlist[4]],\n",
    "        'Model 4' : [QDAerrorlist[3]],\n",
    "        'Model 5' : [QDAerrorlist[2]],\n",
    "        'Model 6' : [QDAerrorlist[1]],\n",
    "        'Model 7' : [QDAerrorlist[0]],}\n",
    "QDAtable = pd.DataFrame(dict).set_index(' ')\n",
    "QDAtable"
   ]
  },
  {
   "cell_type": "code",
   "execution_count": 555,
   "id": "bd5245c7",
   "metadata": {},
   "outputs": [
    {
     "name": "stdout",
     "output_type": "stream",
     "text": [
      "The QDA model that gives the smallest error is Model 4 and that error is 0.3253968253968254\n"
     ]
    }
   ],
   "source": [
    "print(f\"The QDA model that gives the smallest error is Model {7 - QDAminerrorindex} and that error is {QDAminerror}\")"
   ]
  },
  {
   "cell_type": "code",
   "execution_count": 556,
   "id": "d060644f",
   "metadata": {},
   "outputs": [
    {
     "name": "stdout",
     "output_type": "stream",
     "text": [
      "              precision    recall  f1-score   support\n",
      "\n",
      "        Down       0.64      0.59      0.62       111\n",
      "          Up       0.70      0.74      0.72       141\n",
      "\n",
      "    accuracy                           0.67       252\n",
      "   macro avg       0.67      0.67      0.67       252\n",
      "weighted avg       0.67      0.67      0.67       252\n",
      "\n"
     ]
    }
   ],
   "source": [
    "#Create a classification report to see the accuracy of the model within each class\n",
    "bestmodelQDA = QuadraticDiscriminantAnalysis().fit(train[fullvars[0:4]],train_y)\n",
    "bestpredictionsQDA = bestmodelQDA.predict(test[fullvars[0:4]])\n",
    "print(classification_report(test_y, bestpredictionsQDA))"
   ]
  },
  {
   "cell_type": "code",
   "execution_count": 557,
   "id": "29260b4a",
   "metadata": {
    "scrolled": true
   },
   "outputs": [
    {
     "name": "stdout",
     "output_type": "stream",
     "text": [
      "[[104  37]\n",
      " [ 45  66]]\n"
     ]
    },
    {
     "data": {
      "image/png": "[encoded data removed]",
      "text/plain": [
       "<Figure size 432x288 with 2 Axes>"
      ]
     },
     "metadata": {
      "needs_background": "light"
     },
     "output_type": "display_data"
    }
   ],
   "source": [
    "#Output confusion matrix to see what kind of errors the model is making\n",
    "labels = ['Up', 'Down']\n",
    "cm = confusion_matrix(test_y, bestpredictionsQDA, labels)\n",
    "print(cm)\n",
    "fig = plt.figure()\n",
    "ax = fig.add_subplot(111)\n",
    "cax = ax.matshow(cm)\n",
    "plt.title('Confusion matrix of the classifier')\n",
    "fig.colorbar(cax)\n",
    "ax.set_xticklabels([''] + labels)\n",
    "ax.set_yticklabels([''] + labels)\n",
    "plt.xlabel('Predicted')\n",
    "plt.ylabel('True')\n",
    "plt.show()"
   ]
  },
  {
   "cell_type": "markdown",
   "id": "ac51b3c7",
   "metadata": {},
   "source": [
    "# K-Nearest Neighbors"
   ]
  },
  {
   "cell_type": "code",
   "execution_count": 558,
   "id": "ba5c5f6d",
   "metadata": {
    "scrolled": true
   },
   "outputs": [],
   "source": [
    "knnerrors = []\n",
    "for i in range(1,300):\n",
    "    model = KNeighborsClassifier(n_neighbors=i).fit(train_x, train_y)\n",
    "    predictions = model.predict(test_x)\n",
    "    knnerrors.append(sum(predictions != test_y)/252)\n",
    "knnminerror = min(knnerrors)"
   ]
  },
  {
   "cell_type": "code",
   "execution_count": 559,
   "id": "7c837b0d",
   "metadata": {
    "scrolled": false
   },
   "outputs": [
    {
     "name": "stdout",
     "output_type": "stream",
     "text": [
      "The value of k that gives the smallest error is 286 and that error is 0.3333333333333333\n"
     ]
    }
   ],
   "source": [
    "print(f\"The value of k that gives the smallest error is {knnerrors.index(knnminerror) + 1} and that error is {knnminerror}\")"
   ]
  },
  {
   "cell_type": "code",
   "execution_count": 560,
   "id": "e59c7b5d",
   "metadata": {},
   "outputs": [
    {
     "name": "stdout",
     "output_type": "stream",
     "text": [
      "              precision    recall  f1-score   support\n",
      "\n",
      "        Down       0.63      0.53      0.58       111\n",
      "          Up       0.67      0.76      0.71       141\n",
      "\n",
      "    accuracy                           0.66       252\n",
      "   macro avg       0.65      0.65      0.65       252\n",
      "weighted avg       0.66      0.66      0.65       252\n",
      "\n"
     ]
    }
   ],
   "source": [
    "#Create a classification report to see the accuracy of the model within each class\n",
    "bestmodelknn = KNeighborsClassifier(n_neighbors=285).fit(train_x, train_y)\n",
    "bestpredictionsknn = bestmodelknn.predict(test_x)\n",
    "print(classification_report(test_y, bestpredictionsknn))"
   ]
  },
  {
   "cell_type": "code",
   "execution_count": 561,
   "id": "41f7825b",
   "metadata": {},
   "outputs": [
    {
     "name": "stdout",
     "output_type": "stream",
     "text": [
      "[[107  34]\n",
      " [ 52  59]]\n"
     ]
    },
    {
     "data": {
      "image/png": "[encoded data removed]",
      "text/plain": [
       "<Figure size 432x288 with 2 Axes>"
      ]
     },
     "metadata": {
      "needs_background": "light"
     },
     "output_type": "display_data"
    }
   ],
   "source": [
    "labels = ['Up', 'Down']\n",
    "cm = confusion_matrix(test_y, bestpredictionsknn, labels)\n",
    "print(cm)\n",
    "fig = plt.figure()\n",
    "ax = fig.add_subplot(111)\n",
    "cax = ax.matshow(cm)\n",
    "plt.title('Confusion matrix of the classifier')\n",
    "fig.colorbar(cax)\n",
    "ax.set_xticklabels([''] + labels)\n",
    "ax.set_yticklabels([''] + labels)\n",
    "plt.xlabel('Predicted')\n",
    "plt.ylabel('True')\n",
    "plt.show()"
   ]
  },
  {
   "cell_type": "markdown",
   "id": "6f565877",
   "metadata": {},
   "source": [
    "# Model Comparison"
   ]
  },
  {
   "cell_type": "code",
   "execution_count": 562,
   "id": "d5e7badb",
   "metadata": {},
   "outputs": [
    {
     "data": {
      "text/html": [
       "<div>\n",
       "<style scoped>\n",
       "    .dataframe tbody tr th:only-of-type {\n",
       "        vertical-align: middle;\n",
       "    }\n",
       "\n",
       "    .dataframe tbody tr th {\n",
       "        vertical-align: top;\n",
       "    }\n",
       "\n",
       "    .dataframe thead th {\n",
       "        text-align: right;\n",
       "    }\n",
       "</style>\n",
       "<table border=\"1\" class=\"dataframe\">\n",
       "  <thead>\n",
       "    <tr style=\"text-align: right;\">\n",
       "      <th></th>\n",
       "      <th>Logistic Reg</th>\n",
       "      <th>LDA</th>\n",
       "      <th>QDA</th>\n",
       "      <th>KNN</th>\n",
       "    </tr>\n",
       "    <tr>\n",
       "      <th></th>\n",
       "      <th></th>\n",
       "      <th></th>\n",
       "      <th></th>\n",
       "      <th></th>\n",
       "    </tr>\n",
       "  </thead>\n",
       "  <tbody>\n",
       "    <tr>\n",
       "      <th>Error Rate:</th>\n",
       "      <td>0.321429</td>\n",
       "      <td>0.31746</td>\n",
       "      <td>0.325397</td>\n",
       "      <td>0.333333</td>\n",
       "    </tr>\n",
       "  </tbody>\n",
       "</table>\n",
       "</div>"
      ],
      "text/plain": [
       "             Logistic Reg      LDA       QDA       KNN\n",
       "                                                      \n",
       "Error Rate:      0.321429  0.31746  0.325397  0.333333"
      ]
     },
     "execution_count": 562,
     "metadata": {},
     "output_type": "execute_result"
    }
   ],
   "source": [
    "minerrorlist = [logminerror,LDAminerror,QDAminerror,knnminerror]\n",
    "#Create output dataframe to compare test error rates between specifications\n",
    "dict = {' ' : [\"Error Rate:\"],\n",
    "        'Logistic Reg' : [logminerror],\n",
    "        'LDA' : [LDAminerror],\n",
    "        'QDA' : [QDAminerror],\n",
    "        'KNN' : [knnminerror]}\n",
    "finaltable = pd.DataFrame(dict).set_index(' ')\n",
    "finaltable"
   ]
  }
 ],
 "metadata": {
  "kernelspec": {
   "display_name": "Python 3",
   "language": "python",
   "name": "python3"
  },
  "language_info": {
   "codemirror_mode": {
    "name": "ipython",
    "version": 3
   },
   "file_extension": ".py",
   "mimetype": "text/x-python",
   "name": "python",
   "nbconvert_exporter": "python",
   "pygments_lexer": "ipython3",
   "version": "3.8.8"
  }
 },
 "nbformat": 4,
 "nbformat_minor": 5
}
